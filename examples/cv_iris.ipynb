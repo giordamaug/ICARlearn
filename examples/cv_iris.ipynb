{
 "cells": [
  {
   "cell_type": "markdown",
   "metadata": {},
   "source": [
    "# Load the Iris datset and do 5-fold cross-validation"
   ]
  },
  {
   "cell_type": "code",
   "execution_count": 6,
   "metadata": {},
   "outputs": [
    {
     "name": "stdout",
     "output_type": "stream",
     "text": [
      "Classification with SplitVotingEnsemble...\n"
     ]
    },
    {
     "data": {
      "application/json": {
       "ascii": false,
       "bar_format": null,
       "colour": null,
       "elapsed": 0.01912713050842285,
       "initial": 0,
       "n": 0,
       "ncols": null,
       "nrows": null,
       "postfix": null,
       "prefix": "5-fold",
       "rate": null,
       "total": 5,
       "unit": "it",
       "unit_divisor": 1000,
       "unit_scale": false
      },
      "application/vnd.jupyter.widget-view+json": {
       "model_id": "a45809bf8921400b98e88d2a33e2cbc1",
       "version_major": 2,
       "version_minor": 0
      },
      "text/plain": [
       "5-fold:   0%|          | 0/5 [00:00<?, ?it/s]"
      ]
     },
     "metadata": {},
     "output_type": "display_data"
    },
    {
     "data": {
      "text/html": [
       "<div>\n",
       "<style scoped>\n",
       "    .dataframe tbody tr th:only-of-type {\n",
       "        vertical-align: middle;\n",
       "    }\n",
       "\n",
       "    .dataframe tbody tr th {\n",
       "        vertical-align: top;\n",
       "    }\n",
       "\n",
       "    .dataframe thead th {\n",
       "        text-align: right;\n",
       "    }\n",
       "</style>\n",
       "<table border=\"1\" class=\"dataframe\">\n",
       "  <thead>\n",
       "    <tr style=\"text-align: right;\">\n",
       "      <th></th>\n",
       "      <th>measure</th>\n",
       "    </tr>\n",
       "  </thead>\n",
       "  <tbody>\n",
       "    <tr>\n",
       "      <th>Accuracy</th>\n",
       "      <td>0.947±0.018</td>\n",
       "    </tr>\n",
       "    <tr>\n",
       "      <th>BA</th>\n",
       "      <td>0.947±0.018</td>\n",
       "    </tr>\n",
       "    <tr>\n",
       "      <th>Precision</th>\n",
       "      <td>0.952±0.016</td>\n",
       "    </tr>\n",
       "    <tr>\n",
       "      <th>Recall</th>\n",
       "      <td>0.947±0.018</td>\n",
       "    </tr>\n",
       "    <tr>\n",
       "      <th>MCC</th>\n",
       "      <td>0.923±0.026</td>\n",
       "    </tr>\n",
       "  </tbody>\n",
       "</table>\n",
       "</div>"
      ],
      "text/plain": [
       "               measure\n",
       "Accuracy   0.947±0.018\n",
       "BA         0.947±0.018\n",
       "Precision  0.952±0.016\n",
       "Recall     0.947±0.018\n",
       "MCC        0.923±0.026"
      ]
     },
     "execution_count": 6,
     "metadata": {},
     "output_type": "execute_result"
    },
    {
     "data": {
      "image/png": "[encoded data removed]",
      "text/plain": [
       "<Figure size 432x288 with 2 Axes>"
      ]
     },
     "metadata": {
      "needs_background": "light"
     },
     "output_type": "display_data"
    }
   ],
   "source": [
    "from icarlearn.ensemble.splitvotingens import SplitVotingEnsemble, SplitVotingEnsembleLGBM\n",
    "from icarlearn.validation.crossvalidate import skfold_cv\n",
    "from sklearn.metrics import *\n",
    "from sklearn.ensemble import RandomForestClassifier\n",
    "myscorer = {'Accuracy'  :  (accuracy_score , {}),\n",
    "             'BA'  :       (balanced_accuracy_score , {}),\n",
    "             'Precision' : (precision_score, {'pos_label': 1, 'average':'macro'}),\n",
    "             'Recall' :    (recall_score   , {'pos_label': 1, 'average':'macro'}),\n",
    "             'MCC' :       (matthews_corrcoef, {}), \n",
    "            }\n",
    "import pandas as pd\n",
    "clf = RandomForestClassifier()\n",
    "svclf = SplitVotingEnsemble(clf)\n",
    "from sklearn.datasets import load_iris\n",
    "data = load_iris()\n",
    "X = data.data\n",
    "Y = data['target']\n",
    "df_scores, scores, predictions = skfold_cv(X, Y, svclf, n_splits=5, seed=0, show_progress=True, verbose=True, scorer=myscorer, precision=3)\n",
    "df_scores"
   ]
  },
  {
   "cell_type": "markdown",
   "metadata": {},
   "source": [
    "# Load the kidney dataset"
   ]
  },
  {
   "cell_type": "code",
   "execution_count": 2,
   "metadata": {},
   "outputs": [],
   "source": [
    "import pandas as pd\n",
    "def pdread_csv_fromurl(url, sep=',', index_col=None):\n",
    "    import pycurl\n",
    "    from io import BytesIO\n",
    "    crl_obj = pycurl.Curl()\n",
    "    b_obj = BytesIO()\n",
    "    crl_obj.setopt(crl_obj.URL, url)\n",
    "    crl_obj.setopt(crl_obj.WRITEDATA, b_obj)\n",
    "    crl_obj.perform()\n",
    "    crl_obj.close()\n",
    "    b_obj.seek(0)\n",
    "    return pd.read_table(b_obj, sep=sep, index_col=index_col, encoding='utf-8')"
   ]
  },
  {
   "cell_type": "code",
   "execution_count": 7,
   "metadata": {},
   "outputs": [
    {
     "name": "stdout",
     "output_type": "stream",
     "text": [
      "Classification with SplitVotingEnsemble...\n"
     ]
    },
    {
     "data": {
      "application/json": {
       "ascii": false,
       "bar_format": null,
       "colour": null,
       "elapsed": 0.008965015411376953,
       "initial": 0,
       "n": 0,
       "ncols": null,
       "nrows": null,
       "postfix": null,
       "prefix": "5-fold",
       "rate": null,
       "total": 5,
       "unit": "it",
       "unit_divisor": 1000,
       "unit_scale": false
      },
      "application/vnd.jupyter.widget-view+json": {
       "model_id": "fe8652b13f0048429e2dbba2f5b9b3e7",
       "version_major": 2,
       "version_minor": 0
      },
      "text/plain": [
       "5-fold:   0%|          | 0/5 [00:00<?, ?it/s]"
      ]
     },
     "metadata": {},
     "output_type": "display_data"
    },
    {
     "data": {
      "text/html": [
       "<div>\n",
       "<style scoped>\n",
       "    .dataframe tbody tr th:only-of-type {\n",
       "        vertical-align: middle;\n",
       "    }\n",
       "\n",
       "    .dataframe tbody tr th {\n",
       "        vertical-align: top;\n",
       "    }\n",
       "\n",
       "    .dataframe thead th {\n",
       "        text-align: right;\n",
       "    }\n",
       "</style>\n",
       "<table border=\"1\" class=\"dataframe\">\n",
       "  <thead>\n",
       "    <tr style=\"text-align: right;\">\n",
       "      <th></th>\n",
       "      <th>measure</th>\n",
       "    </tr>\n",
       "  </thead>\n",
       "  <tbody>\n",
       "    <tr>\n",
       "      <th>ROC-AUC</th>\n",
       "      <td>0.9150±0.0079</td>\n",
       "    </tr>\n",
       "    <tr>\n",
       "      <th>Accuracy</th>\n",
       "      <td>0.8017±0.0039</td>\n",
       "    </tr>\n",
       "    <tr>\n",
       "      <th>BA</th>\n",
       "      <td>0.8296±0.0069</td>\n",
       "    </tr>\n",
       "    <tr>\n",
       "      <th>Specificity</th>\n",
       "      <td>0.7970±0.0039</td>\n",
       "    </tr>\n",
       "    <tr>\n",
       "      <th>Sensitivity</th>\n",
       "      <td>0.8622±0.0126</td>\n",
       "    </tr>\n",
       "    <tr>\n",
       "      <th>MCC</th>\n",
       "      <td>0.3924±0.0088</td>\n",
       "    </tr>\n",
       "  </tbody>\n",
       "</table>\n",
       "</div>"
      ],
      "text/plain": [
       "                   measure\n",
       "ROC-AUC      0.9150±0.0079\n",
       "Accuracy     0.8017±0.0039\n",
       "BA           0.8296±0.0069\n",
       "Specificity  0.7970±0.0039\n",
       "Sensitivity  0.8622±0.0126\n",
       "MCC          0.3924±0.0088"
      ]
     },
     "execution_count": 7,
     "metadata": {},
     "output_type": "execute_result"
    },
    {
     "data": {
      "image/png": "[encoded data removed]",
      "text/plain": [
       "<Figure size 432x288 with 2 Axes>"
      ]
     },
     "metadata": {
      "needs_background": "light"
     },
     "output_type": "display_data"
    }
   ],
   "source": [
    "from icarlearn.ensemble.splitvotingens import SplitVotingEnsemble, SplitVotingEnsembleLGBM\n",
    "from icarlearn.validation.crossvalidate import skfold_cv\n",
    "from lightgbm import LGBMClassifier\n",
    "from imblearn.metrics import specificity_score\n",
    "from sklearn.metrics import *\n",
    "import numpy as np\n",
    "myscorer = { 'ROC-AUC':      (roc_auc_score, {'multi_class':'ovr', 'average':'macro'}),\n",
    "             'Accuracy'  :   (accuracy_score , {}),\n",
    "             'BA'  :         (balanced_accuracy_score , {}),\n",
    "             'Specificity' : (specificity_score, {'pos_label': 'E'}),\n",
    "             'Sensitivity' : (recall_score   , {'pos_label': 'E'}),\n",
    "             'MCC' :         (matthews_corrcoef, {}), \n",
    "            }\n",
    "clf = LGBMClassifier(n_estimators=200)\n",
    "svclf = SplitVotingEnsemble(clf)\n",
    "from sklearn.datasets import load_iris\n",
    "X = pdread_csv_fromurl(\"https://zenodo.org/records/11917458/files/Brain_BIO.csv\", index_col=0)\n",
    "Y = pdread_csv_fromurl(\"https://zenodo.org/records/11917458/files/Brain_HELP.csv\", index_col=0).replace({'aE': 'NE', 'sNE': 'NE'})\n",
    "shdgenes = np.intersect1d(X.index.values, Y.index.values)\n",
    "X = X.loc[shdgenes]\n",
    "Y = Y.loc[shdgenes]\n",
    "df_scores, scores, predictions = skfold_cv(X, Y, svclf, n_splits=5, seed=0, show_progress=True, verbose=True, scorer=myscorer, precision=4)\n",
    "df_scores\n"
   ]
  },
  {
   "cell_type": "code",
   "execution_count": 40,
   "metadata": {},
   "outputs": [
    {
     "name": "stdout",
     "output_type": "stream",
     "text": [
      "AdaBoostClassifier(n_estimators=20, random_state=42)\n",
      "AdaBoostClassifier(n_estimators=20, random_state=42)\n",
      "Classification with sveRF...\n"
     ]
    },
    {
     "data": {
      "application/json": {
       "ascii": false,
       "bar_format": null,
       "colour": null,
       "elapsed": 0.007370948791503906,
       "initial": 0,
       "n": 0,
       "ncols": null,
       "nrows": null,
       "postfix": null,
       "prefix": "5-fold",
       "rate": null,
       "total": 5,
       "unit": "it",
       "unit_divisor": 1000,
       "unit_scale": false
      },
      "application/vnd.jupyter.widget-view+json": {
       "model_id": "e86d12f232114ced9e541ba27294fcad",
       "version_major": 2,
       "version_minor": 0
      },
      "text/plain": [
       "5-fold:   0%|          | 0/5 [00:00<?, ?it/s]"
      ]
     },
     "metadata": {},
     "output_type": "display_data"
    },
    {
     "name": "stdout",
     "output_type": "stream",
     "text": [
      "AdaBoostClassifier(random_state=42)\n",
      "AdaBoostClassifier(random_state=42)\n",
      "AdaBoostClassifier(random_state=42)\n",
      "AdaBoostClassifier(random_state=42)\n",
      "AdaBoostClassifier(random_state=42)\n",
      "AdaBoostClassifier(random_state=42)\n",
      "AdaBoostClassifier(random_state=42)\n",
      "AdaBoostClassifier(random_state=42)\n",
      "AdaBoostClassifier(random_state=42)\n",
      "AdaBoostClassifier(random_state=42)\n"
     ]
    },
    {
     "data": {
      "text/html": [
       "<div>\n",
       "<style scoped>\n",
       "    .dataframe tbody tr th:only-of-type {\n",
       "        vertical-align: middle;\n",
       "    }\n",
       "\n",
       "    .dataframe tbody tr th {\n",
       "        vertical-align: top;\n",
       "    }\n",
       "\n",
       "    .dataframe thead th {\n",
       "        text-align: right;\n",
       "    }\n",
       "</style>\n",
       "<table border=\"1\" class=\"dataframe\">\n",
       "  <thead>\n",
       "    <tr style=\"text-align: right;\">\n",
       "      <th></th>\n",
       "      <th>measure</th>\n",
       "    </tr>\n",
       "  </thead>\n",
       "  <tbody>\n",
       "    <tr>\n",
       "      <th>Accuracy</th>\n",
       "      <td>0.796±0.007</td>\n",
       "    </tr>\n",
       "    <tr>\n",
       "      <th>BA</th>\n",
       "      <td>0.819±0.011</td>\n",
       "    </tr>\n",
       "    <tr>\n",
       "      <th>Precision</th>\n",
       "      <td>0.612±0.005</td>\n",
       "    </tr>\n",
       "    <tr>\n",
       "      <th>Recall</th>\n",
       "      <td>0.819±0.011</td>\n",
       "    </tr>\n",
       "    <tr>\n",
       "      <th>MCC</th>\n",
       "      <td>0.378±0.015</td>\n",
       "    </tr>\n",
       "  </tbody>\n",
       "</table>\n",
       "</div>"
      ],
      "text/plain": [
       "               measure\n",
       "Accuracy   0.796±0.007\n",
       "BA         0.819±0.011\n",
       "Precision  0.612±0.005\n",
       "Recall     0.819±0.011\n",
       "MCC        0.378±0.015"
      ]
     },
     "execution_count": 40,
     "metadata": {},
     "output_type": "execute_result"
    },
    {
     "data": {
      "image/png": "[encoded data removed]",
      "text/plain": [
       "<Figure size 432x288 with 2 Axes>"
      ]
     },
     "metadata": {
      "needs_background": "light"
     },
     "output_type": "display_data"
    }
   ],
   "source": [
    "from icarlearn.ensemble.splitvotingens import SplitVotingEnsemble\n",
    "from icarlearn.validation.crossvalidate import skfold_cv\n",
    "from sklearn.metrics import *\n",
    "from sklearn.ensemble import RandomForestClassifier\n",
    "from sklearn.ensemble import AdaBoostClassifier\n",
    "from HELPpy.utility.utils import pdread_csv_fromurl\n",
    "import numpy as np\n",
    "class sveRF(SplitVotingEnsemble):\n",
    "    def __init__(self, n_voters:int=-1, voting:str='soft', n_jobs:int=-1, verbose:bool=False, random_state:int=42, **kw):\n",
    "        # intialize ensemble ov voters\n",
    "        #self.set_params(**kwargs)\n",
    "        clf = AdaBoostClassifier(random_state=random_state, **kw)\n",
    "        print(clf)\n",
    "        for k,v in kw.items():\n",
    "            setattr( self, k, v )\n",
    "        print(clf)\n",
    "        super().__init__(clf, n_voters=n_voters, voting=voting, n_jobs=n_jobs, \n",
    "                                                  verbose=verbose, random_state=random_state)\n",
    "        self.base_estimator = clf\n",
    "\n",
    "myscorer = {'Accuracy'  :  (accuracy_score , {}),\n",
    "             'BA'  :       (balanced_accuracy_score , {}),\n",
    "             'Precision' : (precision_score, {'pos_label': 1, 'average':'macro'}),\n",
    "             'Recall' :    (recall_score   , {'pos_label': 1, 'average':'macro'}),\n",
    "             'MCC' :       (matthews_corrcoef, {}), \n",
    "            }\n",
    "import pandas as pd\n",
    "svclf = sveRF(n_estimators=20)\n",
    "X = pdread_csv_fromurl(\"https://zenodo.org/records/11917458/files/Brain_BIO.csv\", index_col=0)\n",
    "X = X.fillna(X.mean())\n",
    "Y = pdread_csv_fromurl(\"https://zenodo.org/records/11917458/files/Brain_HELP.csv\", index_col=0).replace({'aE': 'NE', 'sNE': 'NE'})\n",
    "shdgenes = np.intersect1d(X.index.values, Y.index.values)\n",
    "X = X.loc[shdgenes]\n",
    "Y = Y.loc[shdgenes]\n",
    "df_scores, scores, predictions = skfold_cv(X, Y, svclf, n_splits=5, seed=0, show_progress=True, verbose=True, scorer=myscorer, precision=3)\n",
    "df_scores"
   ]
  }
 ],
 "metadata": {
  "kernelspec": {
   "display_name": "base",
   "language": "python",
   "name": "python3"
  },
  "language_info": {
   "codemirror_mode": {
    "name": "ipython",
    "version": 3
   },
   "file_extension": ".py",
   "mimetype": "text/x-python",
   "name": "python",
   "nbconvert_exporter": "python",
   "pygments_lexer": "ipython3",
   "version": "3.8.3"
  }
 },
 "nbformat": 4,
 "nbformat_minor": 2
}
