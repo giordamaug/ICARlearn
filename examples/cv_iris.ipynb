{
 "cells": [
  {
   "cell_type": "markdown",
   "metadata": {},
   "source": [
    "# Load the Iris datset and do 5-fold cross-validation"
   ]
  },
  {
   "cell_type": "code",
   "execution_count": 5,
   "metadata": {},
   "outputs": [
    {
     "data": {
      "text/plain": [
       "(array([0, 1, 2]), array([50, 50, 50]))"
      ]
     },
     "execution_count": 5,
     "metadata": {},
     "output_type": "execute_result"
    }
   ],
   "source": [
    "import numpy as np\n",
    "np.unique(Y, return_counts=True)"
   ]
  },
  {
   "cell_type": "code",
   "execution_count": 1,
   "metadata": {},
   "outputs": [
    {
     "name": "stdout",
     "output_type": "stream",
     "text": [
      "Classification with SplitVotingEnsemble...\n"
     ]
    },
    {
     "data": {
      "application/vnd.jupyter.widget-view+json": {
       "model_id": "a6bc1390533f4386bef28b5a93a20489",
       "version_major": 2,
       "version_minor": 0
      },
      "text/plain": [
       "5-fold:   0%|          | 0/5 [00:00<?, ?it/s]"
      ]
     },
     "metadata": {},
     "output_type": "display_data"
    },
    {
     "data": {
      "text/html": [
       "<div>\n",
       "<style scoped>\n",
       "    .dataframe tbody tr th:only-of-type {\n",
       "        vertical-align: middle;\n",
       "    }\n",
       "\n",
       "    .dataframe tbody tr th {\n",
       "        vertical-align: top;\n",
       "    }\n",
       "\n",
       "    .dataframe thead th {\n",
       "        text-align: right;\n",
       "    }\n",
       "</style>\n",
       "<table border=\"1\" class=\"dataframe\">\n",
       "  <thead>\n",
       "    <tr style=\"text-align: right;\">\n",
       "      <th></th>\n",
       "      <th>measure</th>\n",
       "    </tr>\n",
       "  </thead>\n",
       "  <tbody>\n",
       "    <tr>\n",
       "      <th>Accuracy</th>\n",
       "      <td>0.940±0.028</td>\n",
       "    </tr>\n",
       "    <tr>\n",
       "      <th>BA</th>\n",
       "      <td>0.940±0.028</td>\n",
       "    </tr>\n",
       "    <tr>\n",
       "      <th>Precision</th>\n",
       "      <td>0.946±0.028</td>\n",
       "    </tr>\n",
       "    <tr>\n",
       "      <th>Recall</th>\n",
       "      <td>0.940±0.028</td>\n",
       "    </tr>\n",
       "    <tr>\n",
       "      <th>MCC</th>\n",
       "      <td>0.913±0.041</td>\n",
       "    </tr>\n",
       "    <tr>\n",
       "      <th>cm</th>\n",
       "      <td>[[50, 0, 0], [0, 46, 4], [0, 5, 45]]</td>\n",
       "    </tr>\n",
       "  </tbody>\n",
       "</table>\n",
       "</div>"
      ],
      "text/plain": [
       "                                        measure\n",
       "Accuracy                            0.940±0.028\n",
       "BA                                  0.940±0.028\n",
       "Precision                           0.946±0.028\n",
       "Recall                              0.940±0.028\n",
       "MCC                                 0.913±0.041\n",
       "cm         [[50, 0, 0], [0, 46, 4], [0, 5, 45]]"
      ]
     },
     "execution_count": 1,
     "metadata": {},
     "output_type": "execute_result"
    },
    {
     "data": {
      "image/png": "[encoded data removed]",
      "text/plain": [
       "<Figure size 640x480 with 2 Axes>"
      ]
     },
     "metadata": {},
     "output_type": "display_data"
    }
   ],
   "source": [
    "from icarlearn.ensemble.splitvotingens import SplitVotingEnsemble, SplitVotingEnsembleLGBM\n",
    "from icarlearn.validation.crossvalidate import skfold_cv\n",
    "from sklearn.metrics import *\n",
    "from sklearn.ensemble import RandomForestClassifier\n",
    "myscorer = {'Accuracy'  :  (accuracy_score , {}),\n",
    "             'BA'  :       (balanced_accuracy_score , {}),\n",
    "             'Precision' : (precision_score, {'pos_label': 1, 'average':'macro'}),\n",
    "             'Recall' :    (recall_score   , {'pos_label': 1, 'average':'macro'}),\n",
    "             'MCC' :       (matthews_corrcoef, {}), \n",
    "            }\n",
    "import pandas as pd\n",
    "clf = RandomForestClassifier()\n",
    "svclf = SplitVotingEnsemble(clf)\n",
    "from sklearn.datasets import load_iris\n",
    "data = load_iris()\n",
    "X = data.data\n",
    "Y = data['target']\n",
    "df_scores, scores, predictions = skfold_cv(X, Y, svclf, n_splits=5, seed=0, show_progress=True, verbose=True, scorer=myscorer, precision=3)\n",
    "df_scores"
   ]
  },
  {
   "cell_type": "markdown",
   "metadata": {},
   "source": [
    "# Load the kidney dataset"
   ]
  },
  {
   "cell_type": "code",
   "execution_count": 1,
   "metadata": {},
   "outputs": [],
   "source": [
    "import pandas as pd\n",
    "def pdread_csv_fromurl(url, sep=',', index_col=None):\n",
    "    import pycurl\n",
    "    from io import BytesIO\n",
    "    crl_obj = pycurl.Curl()\n",
    "    b_obj = BytesIO()\n",
    "    crl_obj.setopt(crl_obj.URL, url)\n",
    "    crl_obj.setopt(crl_obj.WRITEDATA, b_obj)\n",
    "    crl_obj.perform()\n",
    "    crl_obj.close()\n",
    "    b_obj.seek(0)\n",
    "    return pd.read_table(b_obj, sep=sep, index_col=index_col, encoding='utf-8')"
   ]
  },
  {
   "cell_type": "code",
   "execution_count": 4,
   "metadata": {},
   "outputs": [
    {
     "name": "stdout",
     "output_type": "stream",
     "text": [
      "Classification with SplittingVotingEnsemble...\n"
     ]
    },
    {
     "data": {
      "application/vnd.jupyter.widget-view+json": {
       "model_id": "8b2c62d69b164fa9bd8daa9be4c3fe2c",
       "version_major": 2,
       "version_minor": 0
      },
      "text/plain": [
       "5-fold:   0%|          | 0/5 [00:00<?, ?it/s]"
      ]
     },
     "metadata": {},
     "output_type": "display_data"
    },
    {
     "name": "stdout",
     "output_type": "stream",
     "text": [
      "LGBMClassifier(n_estimators=200)\n",
      "LGBMClassifier(n_estimators=200)\n",
      "LGBMClassifier(n_estimators=200)\n",
      "LGBMClassifier(n_estimators=200)\n",
      "LGBMClassifier(n_estimators=200)\n"
     ]
    },
    {
     "data": {
      "text/html": [
       "<div>\n",
       "<style scoped>\n",
       "    .dataframe tbody tr th:only-of-type {\n",
       "        vertical-align: middle;\n",
       "    }\n",
       "\n",
       "    .dataframe tbody tr th {\n",
       "        vertical-align: top;\n",
       "    }\n",
       "\n",
       "    .dataframe thead th {\n",
       "        text-align: right;\n",
       "    }\n",
       "</style>\n",
       "<table border=\"1\" class=\"dataframe\">\n",
       "  <thead>\n",
       "    <tr style=\"text-align: right;\">\n",
       "      <th></th>\n",
       "      <th>measure</th>\n",
       "    </tr>\n",
       "  </thead>\n",
       "  <tbody>\n",
       "    <tr>\n",
       "      <th>ROC-AUC</th>\n",
       "      <td>0.9150±0.0079</td>\n",
       "    </tr>\n",
       "    <tr>\n",
       "      <th>Accuracy</th>\n",
       "      <td>0.8017±0.0039</td>\n",
       "    </tr>\n",
       "    <tr>\n",
       "      <th>BA</th>\n",
       "      <td>0.8296±0.0069</td>\n",
       "    </tr>\n",
       "    <tr>\n",
       "      <th>Specificity</th>\n",
       "      <td>0.7970±0.0039</td>\n",
       "    </tr>\n",
       "    <tr>\n",
       "      <th>Sensitivity</th>\n",
       "      <td>0.8622±0.0126</td>\n",
       "    </tr>\n",
       "    <tr>\n",
       "      <th>MCC</th>\n",
       "      <td>0.3924±0.0088</td>\n",
       "    </tr>\n",
       "  </tbody>\n",
       "</table>\n",
       "</div>"
      ],
      "text/plain": [
       "                   measure\n",
       "ROC-AUC      0.9150±0.0079\n",
       "Accuracy     0.8017±0.0039\n",
       "BA           0.8296±0.0069\n",
       "Specificity  0.7970±0.0039\n",
       "Sensitivity  0.8622±0.0126\n",
       "MCC          0.3924±0.0088"
      ]
     },
     "execution_count": 4,
     "metadata": {},
     "output_type": "execute_result"
    },
    {
     "data": {
      "image/png": "[encoded data removed]",
      "text/plain": [
       "<Figure size 640x480 with 2 Axes>"
      ]
     },
     "metadata": {},
     "output_type": "display_data"
    }
   ],
   "source": [
    "from icarlearn.ensemble.splitvotingens import *\n",
    "from icarlearn.validation.crossvalidate import skfold_cv\n",
    "from lightgbm import LGBMClassifier\n",
    "from imblearn.metrics import specificity_score\n",
    "from sklearn.metrics import *\n",
    "import numpy as np\n",
    "myscorer = { 'ROC-AUC':      (roc_auc_score, {'multi_class':'ovr', 'average':'macro'}),\n",
    "             'Accuracy'  :   (accuracy_score , {}),\n",
    "             'BA'  :         (balanced_accuracy_score , {}),\n",
    "             'Specificity' : (specificity_score, {'pos_label': 'E'}),\n",
    "             'Sensitivity' : (recall_score   , {'pos_label': 'E'}),\n",
    "             'MCC' :         (matthews_corrcoef, {}), \n",
    "            }\n",
    "clf = LGBMClassifier(n_estimators=200)\n",
    "svclf = SplittingVotingEnsemble(clf)\n",
    "X = pdread_csv_fromurl(\"https://zenodo.org/records/11917458/files/Brain_BIO.csv\", index_col=0)\n",
    "Y = pdread_csv_fromurl(\"https://zenodo.org/records/11917458/files/Brain_HELP.csv\", index_col=0).replace({'aE': 'NE', 'sNE': 'NE'})\n",
    "shdgenes = np.intersect1d(X.index.values, Y.index.values)\n",
    "X = X.loc[shdgenes]\n",
    "Y = Y.loc[shdgenes]\n",
    "df_scores, scores, predictions = skfold_cv(X, Y, svclf, n_splits=5, seed=0, show_progress=True, verbose=True, scorer=myscorer, precision=4)\n",
    "df_scores\n"
   ]
  },
  {
   "cell_type": "code",
   "execution_count": 9,
   "metadata": {},
   "outputs": [
    {
     "name": "stdout",
     "output_type": "stream",
     "text": [
      "LinearDiscriminantAnalysis()\n",
      "XGBClassifier(base_score=None, booster=None, callbacks=None,\n",
      "              colsample_bylevel=None, colsample_bynode=None,\n",
      "              colsample_bytree=None, device=None, early_stopping_rounds=None,\n",
      "              enable_categorical=False, eval_metric=None, feature_types=None,\n",
      "              gamma=None, grow_policy=None, importance_type=None,\n",
      "              interaction_constraints=None, learning_rate=None, max_bin=None,\n",
      "              max_cat_threshold=None, max_cat_to_onehot=None,\n",
      "              max_delta_step=None, max_depth=None, max_leaves=None,\n",
      "              min_child_weight=None, missing=nan, monotone_constraints=None,\n",
      "              multi_strategy=None, n_estimators=None, n_jobs=None,\n",
      "              num_parallel_tree=None, random_state=None, ...)\n",
      "Classification with sveXGB...\n"
     ]
    },
    {
     "data": {
      "application/vnd.jupyter.widget-view+json": {
       "model_id": "dce2a2cf3e1d4b1a9f91edb144bd4585",
       "version_major": 2,
       "version_minor": 0
      },
      "text/plain": [
       "5-fold:   0%|          | 0/5 [00:00<?, ?it/s]"
      ]
     },
     "metadata": {},
     "output_type": "display_data"
    },
    {
     "data": {
      "text/html": [
       "<div>\n",
       "<style scoped>\n",
       "    .dataframe tbody tr th:only-of-type {\n",
       "        vertical-align: middle;\n",
       "    }\n",
       "\n",
       "    .dataframe tbody tr th {\n",
       "        vertical-align: top;\n",
       "    }\n",
       "\n",
       "    .dataframe thead th {\n",
       "        text-align: right;\n",
       "    }\n",
       "</style>\n",
       "<table border=\"1\" class=\"dataframe\">\n",
       "  <thead>\n",
       "    <tr style=\"text-align: right;\">\n",
       "      <th></th>\n",
       "      <th>measure</th>\n",
       "    </tr>\n",
       "  </thead>\n",
       "  <tbody>\n",
       "    <tr>\n",
       "      <th>ROC-AUC</th>\n",
       "      <td>0.910717±0.009311</td>\n",
       "    </tr>\n",
       "    <tr>\n",
       "      <th>Accuracy</th>\n",
       "      <td>0.793551±0.006862</td>\n",
       "    </tr>\n",
       "    <tr>\n",
       "      <th>BA</th>\n",
       "      <td>0.825615±0.009987</td>\n",
       "    </tr>\n",
       "    <tr>\n",
       "      <th>Specificity</th>\n",
       "      <td>0.788195±0.007147</td>\n",
       "    </tr>\n",
       "    <tr>\n",
       "      <th>Sensitivity</th>\n",
       "      <td>0.863036±0.018081</td>\n",
       "    </tr>\n",
       "    <tr>\n",
       "      <th>MCC</th>\n",
       "      <td>0.383543±0.013027</td>\n",
       "    </tr>\n",
       "  </tbody>\n",
       "</table>\n",
       "</div>"
      ],
      "text/plain": [
       "                       measure\n",
       "ROC-AUC      0.910717±0.009311\n",
       "Accuracy     0.793551±0.006862\n",
       "BA           0.825615±0.009987\n",
       "Specificity  0.788195±0.007147\n",
       "Sensitivity  0.863036±0.018081\n",
       "MCC          0.383543±0.013027"
      ]
     },
     "execution_count": 9,
     "metadata": {},
     "output_type": "execute_result"
    },
    {
     "data": {
      "image/png": "[encoded data removed]",
      "text/plain": [
       "<Figure size 640x480 with 2 Axes>"
      ]
     },
     "metadata": {},
     "output_type": "display_data"
    }
   ],
   "source": [
    "from icarlearn.ensemble.splitvotingens import *\n",
    "from icarlearn.validation.crossvalidate import skfold_cv\n",
    "from imblearn.metrics import specificity_score\n",
    "from sklearn.metrics import *\n",
    "from HELPpy.utility.utils import pdread_csv_fromurl\n",
    "import numpy as np\n",
    "\n",
    "myscorer = { 'ROC-AUC':      (roc_auc_score, {'multi_class':'ovr', 'average':'macro'}),\n",
    "             'Accuracy'  :   (accuracy_score , {}),\n",
    "             'BA'  :         (balanced_accuracy_score , {}),\n",
    "             'Specificity' : (specificity_score, {'pos_label': 'E'}),\n",
    "             'Sensitivity' : (recall_score   , {'pos_label': 'E'}),\n",
    "             'MCC' :         (matthews_corrcoef, {}), \n",
    "            }\n",
    "import pandas as pd\n",
    "#svclf = sveAB()\n",
    "#svclf = sveRF()\n",
    "#svclf = sveLDA()\n",
    "#svclf = sveLGBM()\n",
    "svclf = sveXGB()\n",
    "X = pdread_csv_fromurl(\"https://zenodo.org/records/11917458/files/Brain_BIO.csv\", index_col=0)\n",
    "X = X.fillna(X.mean())\n",
    "Y = pdread_csv_fromurl(\"https://zenodo.org/records/11917458/files/Brain_HELP.csv\", index_col=0).replace({'aE': 'NE', 'sNE': 'NE'})\n",
    "shdgenes = np.intersect1d(X.index.values, Y.index.values)\n",
    "X = X.loc[shdgenes]\n",
    "Y = Y.loc[shdgenes]\n",
    "df_scores, scores, predictions = skfold_cv(X, Y, svclf, n_splits=5, seed=0, show_progress=True, verbose=True, scorer=myscorer, precision=6)\n",
    "df_scores"
   ]
  },
  {
   "cell_type": "code",
   "execution_count": 6,
   "metadata": {},
   "outputs": [
    {
     "data": {
      "text/plain": [
       "<286x43 sparse matrix of type '<class 'numpy.float64'>'\n",
       "\twith 2574 stored elements in Compressed Sparse Row format>"
      ]
     },
     "execution_count": 6,
     "metadata": {},
     "output_type": "execute_result"
    }
   ],
   "source": [
    "X"
   ]
  },
  {
   "cell_type": "code",
   "execution_count": 25,
   "metadata": {},
   "outputs": [
    {
     "name": "stdout",
     "output_type": "stream",
     "text": [
      "[array(['20-29', '30-39', '40-49', '50-59', '60-69', '70-79'], dtype=object), array(['ge40', 'lt40', 'premeno'], dtype=object), array(['0-4', '14-Oct', '15-19', '20-24', '25-29', '30-34', '35-39',\n",
      "       '40-44', '45-49', '50-54', '9-May'], dtype=object), array(['0-2', '11-Sep', '14-Dec', '15-17', '24-26', '5-Mar', '8-Jun'],\n",
      "      dtype=object), array(['no', 'yes', nan], dtype=object), array([1, 2, 3]), array(['left', 'right'], dtype=object), array(['central', 'left_low', 'left_up', 'right_low', 'right_up', nan],\n",
      "      dtype=object), array(['no', 'yes'], dtype=object)]\n",
      "Classification with ExtraTreeClassifier...\n"
     ]
    },
    {
     "data": {
      "application/vnd.jupyter.widget-view+json": {
       "model_id": "c41c4758f3f5459fa36d93b34e3c92d7",
       "version_major": 2,
       "version_minor": 0
      },
      "text/plain": [
       "5-fold:   0%|          | 0/5 [00:00<?, ?it/s]"
      ]
     },
     "metadata": {},
     "output_type": "display_data"
    },
    {
     "data": {
      "text/html": [
       "<div>\n",
       "<style scoped>\n",
       "    .dataframe tbody tr th:only-of-type {\n",
       "        vertical-align: middle;\n",
       "    }\n",
       "\n",
       "    .dataframe tbody tr th {\n",
       "        vertical-align: top;\n",
       "    }\n",
       "\n",
       "    .dataframe thead th {\n",
       "        text-align: right;\n",
       "    }\n",
       "</style>\n",
       "<table border=\"1\" class=\"dataframe\">\n",
       "  <thead>\n",
       "    <tr style=\"text-align: right;\">\n",
       "      <th></th>\n",
       "      <th>measure</th>\n",
       "    </tr>\n",
       "  </thead>\n",
       "  <tbody>\n",
       "    <tr>\n",
       "      <th>Accuracy</th>\n",
       "      <td>0.646763±0.029969</td>\n",
       "    </tr>\n",
       "    <tr>\n",
       "      <th>BA</th>\n",
       "      <td>0.561958±0.044743</td>\n",
       "    </tr>\n",
       "    <tr>\n",
       "      <th>Precision</th>\n",
       "      <td>0.564695±0.044922</td>\n",
       "    </tr>\n",
       "    <tr>\n",
       "      <th>Recall</th>\n",
       "      <td>0.561958±0.044743</td>\n",
       "    </tr>\n",
       "    <tr>\n",
       "      <th>MCC</th>\n",
       "      <td>0.126550±0.089529</td>\n",
       "    </tr>\n",
       "  </tbody>\n",
       "</table>\n",
       "</div>"
      ],
      "text/plain": [
       "                     measure\n",
       "Accuracy   0.646763±0.029969\n",
       "BA         0.561958±0.044743\n",
       "Precision  0.564695±0.044922\n",
       "Recall     0.561958±0.044743\n",
       "MCC        0.126550±0.089529"
      ]
     },
     "execution_count": 25,
     "metadata": {},
     "output_type": "execute_result"
    },
    {
     "data": {
      "image/png": "[encoded data removed]",
      "text/plain": [
       "<Figure size 640x480 with 2 Axes>"
      ]
     },
     "metadata": {},
     "output_type": "display_data"
    }
   ],
   "source": [
    "from icarlearn.ensemble.splitvotingens import *\n",
    "from icarlearn.validation.crossvalidate import skfold_cv\n",
    "from imblearn.metrics import specificity_score\n",
    "from sklearn.metrics import *\n",
    "from sklearn.preprocessing import OneHotEncoder\n",
    "from sklearn.ensemble import RandomForestClassifier\n",
    "from sklearn.tree import ExtraTreeClassifier\n",
    "from ucimlrepo import fetch_ucirepo \n",
    "# fetch dataset \n",
    "breast_cancer = fetch_ucirepo(id=14) \n",
    "# data (as pandas dataframes) \n",
    "X = breast_cancer.data.features \n",
    "enc = OneHotEncoder(handle_unknown='ignore')\n",
    "X = enc.fit_transform(X).toarray()\n",
    "print(enc.categories_)\n",
    "Y = breast_cancer.data.targets \n",
    "svclf = ExtraTreeClassifier(random_state=0)\n",
    "#svclf = SplittingVotingEnsemble(ExtraTreeClassifier(random_state=0, ), n_voters=1)\n",
    "#svclf = sveXGB()\n",
    "df_scores, scores, predictions = skfold_cv(X, Y, svclf, n_splits=5, seed=0, show_progress=True, verbose=True, precision=6)\n",
    "df_scores"
   ]
  }
 ],
 "metadata": {
  "kernelspec": {
   "display_name": "base",
   "language": "python",
   "name": "python3"
  },
  "language_info": {
   "codemirror_mode": {
    "name": "ipython",
    "version": 3
   },
   "file_extension": ".py",
   "mimetype": "text/x-python",
   "name": "python",
   "nbconvert_exporter": "python",
   "pygments_lexer": "ipython3",
   "version": "3.10.13"
  }
 },
 "nbformat": 4,
 "nbformat_minor": 2
}
