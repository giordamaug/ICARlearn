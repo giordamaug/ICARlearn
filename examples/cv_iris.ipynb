{
 "cells": [
  {
   "cell_type": "markdown",
   "metadata": {},
   "source": [
    "# Load the Iris datset and do 5-fold cross-validation"
   ]
  },
  {
   "cell_type": "code",
   "execution_count": 6,
   "metadata": {},
   "outputs": [
    {
     "name": "stdout",
     "output_type": "stream",
     "text": [
      "Classification with SplitVotingEnsemble...\n"
     ]
    },
    {
     "data": {
      "application/json": {
       "ascii": false,
       "bar_format": null,
       "colour": null,
       "elapsed": 0.01912713050842285,
       "initial": 0,
       "n": 0,
       "ncols": null,
       "nrows": null,
       "postfix": null,
       "prefix": "5-fold",
       "rate": null,
       "total": 5,
       "unit": "it",
       "unit_divisor": 1000,
       "unit_scale": false
      },
      "application/vnd.jupyter.widget-view+json": {
       "model_id": "a45809bf8921400b98e88d2a33e2cbc1",
       "version_major": 2,
       "version_minor": 0
      },
      "text/plain": [
       "5-fold:   0%|          | 0/5 [00:00<?, ?it/s]"
      ]
     },
     "metadata": {},
     "output_type": "display_data"
    },
    {
     "data": {
      "text/html": [
       "<div>\n",
       "<style scoped>\n",
       "    .dataframe tbody tr th:only-of-type {\n",
       "        vertical-align: middle;\n",
       "    }\n",
       "\n",
       "    .dataframe tbody tr th {\n",
       "        vertical-align: top;\n",
       "    }\n",
       "\n",
       "    .dataframe thead th {\n",
       "        text-align: right;\n",
       "    }\n",
       "</style>\n",
       "<table border=\"1\" class=\"dataframe\">\n",
       "  <thead>\n",
       "    <tr style=\"text-align: right;\">\n",
       "      <th></th>\n",
       "      <th>measure</th>\n",
       "    </tr>\n",
       "  </thead>\n",
       "  <tbody>\n",
       "    <tr>\n",
       "      <th>Accuracy</th>\n",
       "      <td>0.947±0.018</td>\n",
       "    </tr>\n",
       "    <tr>\n",
       "      <th>BA</th>\n",
       "      <td>0.947±0.018</td>\n",
       "    </tr>\n",
       "    <tr>\n",
       "      <th>Precision</th>\n",
       "      <td>0.952±0.016</td>\n",
       "    </tr>\n",
       "    <tr>\n",
       "      <th>Recall</th>\n",
       "      <td>0.947±0.018</td>\n",
       "    </tr>\n",
       "    <tr>\n",
       "      <th>MCC</th>\n",
       "      <td>0.923±0.026</td>\n",
       "    </tr>\n",
       "  </tbody>\n",
       "</table>\n",
       "</div>"
      ],
      "text/plain": [
       "               measure\n",
       "Accuracy   0.947±0.018\n",
       "BA         0.947±0.018\n",
       "Precision  0.952±0.016\n",
       "Recall     0.947±0.018\n",
       "MCC        0.923±0.026"
      ]
     },
     "execution_count": 6,
     "metadata": {},
     "output_type": "execute_result"
    },
    {
     "data": {
      "image/png": "[encoded data removed]",
      "text/plain": [
       "<Figure size 432x288 with 2 Axes>"
      ]
     },
     "metadata": {
      "needs_background": "light"
     },
     "output_type": "display_data"
    }
   ],
   "source": [
    "from icarlearn.ensemble.splitvotingens import SplitVotingEnsemble, SplitVotingEnsembleLGBM\n",
    "from icarlearn.validation.crossvalidate import skfold_cv\n",
    "from sklearn.metrics import *\n",
    "from sklearn.ensemble import RandomForestClassifier\n",
    "myscorer = {'Accuracy'  :  (accuracy_score , {}),\n",
    "             'BA'  :       (balanced_accuracy_score , {}),\n",
    "             'Precision' : (precision_score, {'pos_label': 1, 'average':'macro'}),\n",
    "             'Recall' :    (recall_score   , {'pos_label': 1, 'average':'macro'}),\n",
    "             'MCC' :       (matthews_corrcoef, {}), \n",
    "            }\n",
    "import pandas as pd\n",
    "clf = RandomForestClassifier()\n",
    "svclf = SplitVotingEnsemble(clf)\n",
    "from sklearn.datasets import load_iris\n",
    "data = load_iris()\n",
    "X = data.data\n",
    "Y = data['target']\n",
    "df_scores, scores, predictions = skfold_cv(X, Y, svclf, n_splits=5, seed=0, show_progress=True, verbose=True, scorer=myscorer, precision=3)\n",
    "df_scores"
   ]
  },
  {
   "cell_type": "markdown",
   "metadata": {},
   "source": [
    "# Load the kidney dataset"
   ]
  },
  {
   "cell_type": "code",
   "execution_count": 2,
   "metadata": {},
   "outputs": [],
   "source": [
    "import pandas as pd\n",
    "def pdread_csv_fromurl(url, sep=',', index_col=None):\n",
    "    import pycurl\n",
    "    from io import BytesIO\n",
    "    crl_obj = pycurl.Curl()\n",
    "    b_obj = BytesIO()\n",
    "    crl_obj.setopt(crl_obj.URL, url)\n",
    "    crl_obj.setopt(crl_obj.WRITEDATA, b_obj)\n",
    "    crl_obj.perform()\n",
    "    crl_obj.close()\n",
    "    b_obj.seek(0)\n",
    "    return pd.read_table(b_obj, sep=sep, index_col=index_col, encoding='utf-8')"
   ]
  },
  {
   "cell_type": "code",
   "execution_count": 7,
   "metadata": {},
   "outputs": [
    {
     "name": "stdout",
     "output_type": "stream",
     "text": [
      "Classification with SplitVotingEnsemble...\n"
     ]
    },
    {
     "data": {
      "application/json": {
       "ascii": false,
       "bar_format": null,
       "colour": null,
       "elapsed": 0.008965015411376953,
       "initial": 0,
       "n": 0,
       "ncols": null,
       "nrows": null,
       "postfix": null,
       "prefix": "5-fold",
       "rate": null,
       "total": 5,
       "unit": "it",
       "unit_divisor": 1000,
       "unit_scale": false
      },
      "application/vnd.jupyter.widget-view+json": {
       "model_id": "fe8652b13f0048429e2dbba2f5b9b3e7",
       "version_major": 2,
       "version_minor": 0
      },
      "text/plain": [
       "5-fold:   0%|          | 0/5 [00:00<?, ?it/s]"
      ]
     },
     "metadata": {},
     "output_type": "display_data"
    },
    {
     "data": {
      "text/html": [
       "<div>\n",
       "<style scoped>\n",
       "    .dataframe tbody tr th:only-of-type {\n",
       "        vertical-align: middle;\n",
       "    }\n",
       "\n",
       "    .dataframe tbody tr th {\n",
       "        vertical-align: top;\n",
       "    }\n",
       "\n",
       "    .dataframe thead th {\n",
       "        text-align: right;\n",
       "    }\n",
       "</style>\n",
       "<table border=\"1\" class=\"dataframe\">\n",
       "  <thead>\n",
       "    <tr style=\"text-align: right;\">\n",
       "      <th></th>\n",
       "      <th>measure</th>\n",
       "    </tr>\n",
       "  </thead>\n",
       "  <tbody>\n",
       "    <tr>\n",
       "      <th>ROC-AUC</th>\n",
       "      <td>0.9150±0.0079</td>\n",
       "    </tr>\n",
       "    <tr>\n",
       "      <th>Accuracy</th>\n",
       "      <td>0.8017±0.0039</td>\n",
       "    </tr>\n",
       "    <tr>\n",
       "      <th>BA</th>\n",
       "      <td>0.8296±0.0069</td>\n",
       "    </tr>\n",
       "    <tr>\n",
       "      <th>Specificity</th>\n",
       "      <td>0.7970±0.0039</td>\n",
       "    </tr>\n",
       "    <tr>\n",
       "      <th>Sensitivity</th>\n",
       "      <td>0.8622±0.0126</td>\n",
       "    </tr>\n",
       "    <tr>\n",
       "      <th>MCC</th>\n",
       "      <td>0.3924±0.0088</td>\n",
       "    </tr>\n",
       "  </tbody>\n",
       "</table>\n",
       "</div>"
      ],
      "text/plain": [
       "                   measure\n",
       "ROC-AUC      0.9150±0.0079\n",
       "Accuracy     0.8017±0.0039\n",
       "BA           0.8296±0.0069\n",
       "Specificity  0.7970±0.0039\n",
       "Sensitivity  0.8622±0.0126\n",
       "MCC          0.3924±0.0088"
      ]
     },
     "execution_count": 7,
     "metadata": {},
     "output_type": "execute_result"
    },
    {
     "data": {
      "image/png": "[encoded data removed]",
      "text/plain": [
       "<Figure size 432x288 with 2 Axes>"
      ]
     },
     "metadata": {
      "needs_background": "light"
     },
     "output_type": "display_data"
    }
   ],
   "source": [
    "from icarlearn.ensemble.splitvotingens import SplitVotingEnsemble, SplitVotingEnsembleLGBM\n",
    "from icarlearn.validation.crossvalidate import skfold_cv\n",
    "from lightgbm import LGBMClassifier\n",
    "from imblearn.metrics import specificity_score\n",
    "from sklearn.metrics import *\n",
    "import numpy as np\n",
    "myscorer = { 'ROC-AUC':      (roc_auc_score, {'multi_class':'ovr', 'average':'macro'}),\n",
    "             'Accuracy'  :   (accuracy_score , {}),\n",
    "             'BA'  :         (balanced_accuracy_score , {}),\n",
    "             'Specificity' : (specificity_score, {'pos_label': 'E'}),\n",
    "             'Sensitivity' : (recall_score   , {'pos_label': 'E'}),\n",
    "             'MCC' :         (matthews_corrcoef, {}), \n",
    "            }\n",
    "clf = LGBMClassifier(n_estimators=200)\n",
    "svclf = SplitVotingEnsemble(clf)\n",
    "from sklearn.datasets import load_iris\n",
    "X = pdread_csv_fromurl(\"https://zenodo.org/records/11917458/files/Brain_BIO.csv\", index_col=0)\n",
    "Y = pdread_csv_fromurl(\"https://zenodo.org/records/11917458/files/Brain_HELP.csv\", index_col=0).replace({'aE': 'NE', 'sNE': 'NE'})\n",
    "shdgenes = np.intersect1d(X.index.values, Y.index.values)\n",
    "X = X.loc[shdgenes]\n",
    "Y = Y.loc[shdgenes]\n",
    "df_scores, scores, predictions = skfold_cv(X, Y, svclf, n_splits=5, seed=0, show_progress=True, verbose=True, scorer=myscorer, precision=4)\n",
    "df_scores\n"
   ]
  },
  {
   "cell_type": "code",
   "execution_count": 9,
   "metadata": {},
   "outputs": [
    {
     "name": "stdout",
     "output_type": "stream",
     "text": [
      "LinearDiscriminantAnalysis()\n",
      "XGBClassifier(base_score=None, booster=None, callbacks=None,\n",
      "              colsample_bylevel=None, colsample_bynode=None,\n",
      "              colsample_bytree=None, device=None, early_stopping_rounds=None,\n",
      "              enable_categorical=False, eval_metric=None, feature_types=None,\n",
      "              gamma=None, grow_policy=None, importance_type=None,\n",
      "              interaction_constraints=None, learning_rate=None, max_bin=None,\n",
      "              max_cat_threshold=None, max_cat_to_onehot=None,\n",
      "              max_delta_step=None, max_depth=None, max_leaves=None,\n",
      "              min_child_weight=None, missing=nan, monotone_constraints=None,\n",
      "              multi_strategy=None, n_estimators=None, n_jobs=None,\n",
      "              num_parallel_tree=None, random_state=None, ...)\n",
      "Classification with sveXGB...\n"
     ]
    },
    {
     "data": {
      "application/vnd.jupyter.widget-view+json": {
       "model_id": "dce2a2cf3e1d4b1a9f91edb144bd4585",
       "version_major": 2,
       "version_minor": 0
      },
      "text/plain": [
       "5-fold:   0%|          | 0/5 [00:00<?, ?it/s]"
      ]
     },
     "metadata": {},
     "output_type": "display_data"
    },
    {
     "data": {
      "text/html": [
       "<div>\n",
       "<style scoped>\n",
       "    .dataframe tbody tr th:only-of-type {\n",
       "        vertical-align: middle;\n",
       "    }\n",
       "\n",
       "    .dataframe tbody tr th {\n",
       "        vertical-align: top;\n",
       "    }\n",
       "\n",
       "    .dataframe thead th {\n",
       "        text-align: right;\n",
       "    }\n",
       "</style>\n",
       "<table border=\"1\" class=\"dataframe\">\n",
       "  <thead>\n",
       "    <tr style=\"text-align: right;\">\n",
       "      <th></th>\n",
       "      <th>measure</th>\n",
       "    </tr>\n",
       "  </thead>\n",
       "  <tbody>\n",
       "    <tr>\n",
       "      <th>ROC-AUC</th>\n",
       "      <td>0.910717±0.009311</td>\n",
       "    </tr>\n",
       "    <tr>\n",
       "      <th>Accuracy</th>\n",
       "      <td>0.793551±0.006862</td>\n",
       "    </tr>\n",
       "    <tr>\n",
       "      <th>BA</th>\n",
       "      <td>0.825615±0.009987</td>\n",
       "    </tr>\n",
       "    <tr>\n",
       "      <th>Specificity</th>\n",
       "      <td>0.788195±0.007147</td>\n",
       "    </tr>\n",
       "    <tr>\n",
       "      <th>Sensitivity</th>\n",
       "      <td>0.863036±0.018081</td>\n",
       "    </tr>\n",
       "    <tr>\n",
       "      <th>MCC</th>\n",
       "      <td>0.383543±0.013027</td>\n",
       "    </tr>\n",
       "  </tbody>\n",
       "</table>\n",
       "</div>"
      ],
      "text/plain": [
       "                       measure\n",
       "ROC-AUC      0.910717±0.009311\n",
       "Accuracy     0.793551±0.006862\n",
       "BA           0.825615±0.009987\n",
       "Specificity  0.788195±0.007147\n",
       "Sensitivity  0.863036±0.018081\n",
       "MCC          0.383543±0.013027"
      ]
     },
     "execution_count": 9,
     "metadata": {},
     "output_type": "execute_result"
    },
    {
     "data": {
      "image/png": "[encoded data removed]",
      "text/plain": [
       "<Figure size 640x480 with 2 Axes>"
      ]
     },
     "metadata": {},
     "output_type": "display_data"
    }
   ],
   "source": [
    "from icarlearn.ensemble.splitvotingens import *\n",
    "from icarlearn.validation.crossvalidate import skfold_cv\n",
    "from imblearn.metrics import specificity_score\n",
    "from sklearn.metrics import *\n",
    "from HELPpy.utility.utils import pdread_csv_fromurl\n",
    "import numpy as np\n",
    "\n",
    "myscorer = { 'ROC-AUC':      (roc_auc_score, {'multi_class':'ovr', 'average':'macro'}),\n",
    "             'Accuracy'  :   (accuracy_score , {}),\n",
    "             'BA'  :         (balanced_accuracy_score , {}),\n",
    "             'Specificity' : (specificity_score, {'pos_label': 'E'}),\n",
    "             'Sensitivity' : (recall_score   , {'pos_label': 'E'}),\n",
    "             'MCC' :         (matthews_corrcoef, {}), \n",
    "            }\n",
    "import pandas as pd\n",
    "#svclf = sveAB()\n",
    "#svclf = sveRF()\n",
    "#svclf = sveLDA()\n",
    "#svclf = sveLGBM()\n",
    "svclf = sveXGB()\n",
    "X = pdread_csv_fromurl(\"https://zenodo.org/records/11917458/files/Brain_BIO.csv\", index_col=0)\n",
    "X = X.fillna(X.mean())\n",
    "Y = pdread_csv_fromurl(\"https://zenodo.org/records/11917458/files/Brain_HELP.csv\", index_col=0).replace({'aE': 'NE', 'sNE': 'NE'})\n",
    "shdgenes = np.intersect1d(X.index.values, Y.index.values)\n",
    "X = X.loc[shdgenes]\n",
    "Y = Y.loc[shdgenes]\n",
    "df_scores, scores, predictions = skfold_cv(X, Y, svclf, n_splits=5, seed=0, show_progress=True, verbose=True, scorer=myscorer, precision=6)\n",
    "df_scores"
   ]
  }
 ],
 "metadata": {
  "kernelspec": {
   "display_name": "base",
   "language": "python",
   "name": "python3"
  },
  "language_info": {
   "codemirror_mode": {
    "name": "ipython",
    "version": 3
   },
   "file_extension": ".py",
   "mimetype": "text/x-python",
   "name": "python",
   "nbconvert_exporter": "python",
   "pygments_lexer": "ipython3",
   "version": "3.11.5"
  }
 },
 "nbformat": 4,
 "nbformat_minor": 2
}
