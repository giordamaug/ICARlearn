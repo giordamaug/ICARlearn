{
 "cells": [
  {
   "cell_type": "markdown",
   "metadata": {},
   "source": [
    "# The Phoneme dataset\n",
    "The dataset ``phoneme.csv'' is available at https://www.kaggle.com/datasets/timrie/phoneme"
   ]
  },
  {
   "cell_type": "code",
   "execution_count": 26,
   "metadata": {},
   "outputs": [
    {
     "name": "stdout",
     "output_type": "stream",
     "text": [
      " Class\n",
      "0    3818\n",
      "1    1586\n",
      "Name: count, dtype: int64\n",
      "Classification with SplitVotingEnsemble...\n"
     ]
    },
    {
     "data": {
      "application/vnd.jupyter.widget-view+json": {
       "model_id": "5c5986ddce1344d4b81fba82a256f2fe",
       "version_major": 2,
       "version_minor": 0
      },
      "text/plain": [
       "5-fold:   0%|          | 0/5 [00:00<?, ?it/s]"
      ]
     },
     "metadata": {},
     "output_type": "display_data"
    },
    {
     "data": {
      "text/html": [
       "<div>\n",
       "<style scoped>\n",
       "    .dataframe tbody tr th:only-of-type {\n",
       "        vertical-align: middle;\n",
       "    }\n",
       "\n",
       "    .dataframe tbody tr th {\n",
       "        vertical-align: top;\n",
       "    }\n",
       "\n",
       "    .dataframe thead th {\n",
       "        text-align: right;\n",
       "    }\n",
       "</style>\n",
       "<table border=\"1\" class=\"dataframe\">\n",
       "  <thead>\n",
       "    <tr style=\"text-align: right;\">\n",
       "      <th></th>\n",
       "      <th>measure</th>\n",
       "    </tr>\n",
       "  </thead>\n",
       "  <tbody>\n",
       "    <tr>\n",
       "      <th>ROC-AUC</th>\n",
       "      <td>0.911±0.007</td>\n",
       "    </tr>\n",
       "    <tr>\n",
       "      <th>Accuracy</th>\n",
       "      <td>0.841±0.010</td>\n",
       "    </tr>\n",
       "    <tr>\n",
       "      <th>BA</th>\n",
       "      <td>0.856±0.014</td>\n",
       "    </tr>\n",
       "    <tr>\n",
       "      <th>Precision</th>\n",
       "      <td>0.811±0.011</td>\n",
       "    </tr>\n",
       "    <tr>\n",
       "      <th>Recall</th>\n",
       "      <td>0.856±0.014</td>\n",
       "    </tr>\n",
       "    <tr>\n",
       "      <th>MCC</th>\n",
       "      <td>0.665±0.024</td>\n",
       "    </tr>\n",
       "  </tbody>\n",
       "</table>\n",
       "</div>"
      ],
      "text/plain": [
       "               measure\n",
       "ROC-AUC    0.911±0.007\n",
       "Accuracy   0.841±0.010\n",
       "BA         0.856±0.014\n",
       "Precision  0.811±0.011\n",
       "Recall     0.856±0.014\n",
       "MCC        0.665±0.024"
      ]
     },
     "execution_count": 26,
     "metadata": {},
     "output_type": "execute_result"
    },
    {
     "data": {
      "image/png": "[encoded data removed]",
      "text/plain": [
       "<Figure size 640x480 with 2 Axes>"
      ]
     },
     "metadata": {},
     "output_type": "display_data"
    }
   ],
   "source": [
    "from icarlearn.ensemble.splitvotingens import SplitVotingEnsemble\n",
    "from icarlearn.validation.crossvalidate import skfold_cv\n",
    "from sklearn.metrics import *\n",
    "from sklearn.tree import ExtraTreeClassifier\n",
    "myscorer = {'ROC-AUC':      (roc_auc_score, {'multi_class':'ovr', 'average':'macro'}),\n",
    "            'Accuracy'  :  (accuracy_score , {}),\n",
    "            'BA'  :       (balanced_accuracy_score , {}),\n",
    "            'Precision' : (precision_score, {'pos_label': 1, 'average':'macro'}),\n",
    "            'Recall' :    (recall_score   , {'pos_label': 1, 'average':'macro'}),\n",
    "            'MCC' :       (matthews_corrcoef, {}), \n",
    "            }\n",
    "import pandas as pd\n",
    "from scipy.io import arff\n",
    "data = pd.read_csv('phoneme.csv')\n",
    "X = data.drop(columns=[' Class'])\n",
    "Y = data[' Class']\n",
    "print(Y.value_counts())\n",
    "clf = ExtraTreeClassifier()\n",
    "svclf = SplitVotingEnsemble(clf, n_voters=3)\n",
    "df_scores, scores, predictions = skfold_cv(X, Y, svclf, n_splits=5, seed=0, show_progress=True, verbose=True, scorer=myscorer, precision=3)\n",
    "df_scores"
   ]
  },
  {
   "cell_type": "markdown",
   "metadata": {},
   "source": [
    "# Pima dataset from UCL datsets repository"
   ]
  },
  {
   "cell_type": "code",
   "execution_count": 18,
   "metadata": {},
   "outputs": [
    {
     "name": "stdout",
     "output_type": "stream",
     "text": [
      "income\n",
      "<=50K     37155\n",
      ">50K      11687\n",
      "Name: count, dtype: int64\n",
      "Classification with SplitVotingEnsemble...\n"
     ]
    },
    {
     "data": {
      "application/vnd.jupyter.widget-view+json": {
       "model_id": "9c2f063f29e941c894cb8e4c9c1b2901",
       "version_major": 2,
       "version_minor": 0
      },
      "text/plain": [
       "5-fold:   0%|          | 0/5 [00:00<?, ?it/s]"
      ]
     },
     "metadata": {},
     "output_type": "display_data"
    },
    {
     "data": {
      "text/html": [
       "<div>\n",
       "<style scoped>\n",
       "    .dataframe tbody tr th:only-of-type {\n",
       "        vertical-align: middle;\n",
       "    }\n",
       "\n",
       "    .dataframe tbody tr th {\n",
       "        vertical-align: top;\n",
       "    }\n",
       "\n",
       "    .dataframe thead th {\n",
       "        text-align: right;\n",
       "    }\n",
       "</style>\n",
       "<table border=\"1\" class=\"dataframe\">\n",
       "  <thead>\n",
       "    <tr style=\"text-align: right;\">\n",
       "      <th></th>\n",
       "      <th>measure</th>\n",
       "    </tr>\n",
       "  </thead>\n",
       "  <tbody>\n",
       "    <tr>\n",
       "      <th>Accuracy</th>\n",
       "      <td>0.795±0.003</td>\n",
       "    </tr>\n",
       "    <tr>\n",
       "      <th>BA</th>\n",
       "      <td>0.788±0.006</td>\n",
       "    </tr>\n",
       "    <tr>\n",
       "      <th>Precision</th>\n",
       "      <td>0.735±0.003</td>\n",
       "    </tr>\n",
       "    <tr>\n",
       "      <th>Recall</th>\n",
       "      <td>0.788±0.006</td>\n",
       "    </tr>\n",
       "    <tr>\n",
       "      <th>MCC</th>\n",
       "      <td>0.520±0.008</td>\n",
       "    </tr>\n",
       "  </tbody>\n",
       "</table>\n",
       "</div>"
      ],
      "text/plain": [
       "               measure\n",
       "Accuracy   0.795±0.003\n",
       "BA         0.788±0.006\n",
       "Precision  0.735±0.003\n",
       "Recall     0.788±0.006\n",
       "MCC        0.520±0.008"
      ]
     },
     "execution_count": 18,
     "metadata": {},
     "output_type": "execute_result"
    },
    {
     "data": {
      "image/png": "[encoded data removed]",
      "text/plain": [
       "<Figure size 640x480 with 2 Axes>"
      ]
     },
     "metadata": {},
     "output_type": "display_data"
    }
   ],
   "source": [
    "from icarlearn.ensemble.splitvotingens import SplitVotingEnsemble\n",
    "from icarlearn.validation.crossvalidate import skfold_cv\n",
    "from sklearn.preprocessing import OneHotEncoder\n",
    "from sklearn.metrics import *\n",
    "from sklearn.ensemble import RandomForestClassifier\n",
    "myscorer = {'Accuracy'  :  (accuracy_score , {}),\n",
    "             'BA'  :       (balanced_accuracy_score , {}),\n",
    "             'Precision' : (precision_score, {'pos_label': 1, 'average':'macro'}),\n",
    "             'Recall' :    (recall_score   , {'pos_label': 1, 'average':'macro'}),\n",
    "             'MCC' :       (matthews_corrcoef, {}), \n",
    "            }\n",
    "#!pip install ucimlrepo\n",
    "from ucimlrepo import fetch_ucirepo \n",
    "adult = fetch_ucirepo(id=2) \n",
    "X = adult.data.features\n",
    "enc = OneHotEncoder(handle_unknown='ignore')\n",
    "X = enc.fit_transform(X).toarray()\n",
    "Y = adult.data.targets\n",
    "Y = Y.replace({'<=50K.': '<=50K', '>50K.':'>50K'})\n",
    "print(Y.value_counts())\n",
    "clf = ExtraTreeClassifier(random_state=0)\n",
    "svclf = SplitVotingEnsemble(clf, n_voters=4)\n",
    "df_scores, scores, predictions = skfold_cv(X, Y, svclf, n_splits=5, seed=0, show_progress=True, verbose=True, scorer=myscorer, precision=3)\n",
    "df_scores"
   ]
  }
 ],
 "metadata": {
  "kernelspec": {
   "display_name": "base",
   "language": "python",
   "name": "python3"
  },
  "language_info": {
   "codemirror_mode": {
    "name": "ipython",
    "version": 3
   },
   "file_extension": ".py",
   "mimetype": "text/x-python",
   "name": "python",
   "nbconvert_exporter": "python",
   "pygments_lexer": "ipython3",
   "version": "3.11.5"
  }
 },
 "nbformat": 4,
 "nbformat_minor": 2
}
