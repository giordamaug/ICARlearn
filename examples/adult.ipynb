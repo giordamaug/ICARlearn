{
 "cells": [
  {
   "cell_type": "markdown",
   "metadata": {},
   "source": [
    "# Pima dataset (from UCL datsets repository)"
   ]
  },
  {
   "cell_type": "code",
   "execution_count": 1,
   "metadata": {},
   "outputs": [
    {
     "name": "stdout",
     "output_type": "stream",
     "text": [
      "income\n",
      "<=50K     37155\n",
      ">50K      11687\n",
      "Name: count, dtype: int64\n",
      "Classification with SplitVotingEnsemble...\n"
     ]
    },
    {
     "data": {
      "application/vnd.jupyter.widget-view+json": {
       "model_id": "a5f5c94a4a6c4132b489f042cff86fba",
       "version_major": 2,
       "version_minor": 0
      },
      "text/plain": [
       "5-fold:   0%|          | 0/5 [00:00<?, ?it/s]"
      ]
     },
     "metadata": {},
     "output_type": "display_data"
    },
    {
     "data": {
      "text/html": [
       "<div>\n",
       "<style scoped>\n",
       "    .dataframe tbody tr th:only-of-type {\n",
       "        vertical-align: middle;\n",
       "    }\n",
       "\n",
       "    .dataframe tbody tr th {\n",
       "        vertical-align: top;\n",
       "    }\n",
       "\n",
       "    .dataframe thead th {\n",
       "        text-align: right;\n",
       "    }\n",
       "</style>\n",
       "<table border=\"1\" class=\"dataframe\">\n",
       "  <thead>\n",
       "    <tr style=\"text-align: right;\">\n",
       "      <th></th>\n",
       "      <th>measure</th>\n",
       "    </tr>\n",
       "  </thead>\n",
       "  <tbody>\n",
       "    <tr>\n",
       "      <th>Accuracy</th>\n",
       "      <td>0.795±0.003</td>\n",
       "    </tr>\n",
       "    <tr>\n",
       "      <th>BA</th>\n",
       "      <td>0.788±0.006</td>\n",
       "    </tr>\n",
       "    <tr>\n",
       "      <th>Precision</th>\n",
       "      <td>0.735±0.003</td>\n",
       "    </tr>\n",
       "    <tr>\n",
       "      <th>Recall</th>\n",
       "      <td>0.788±0.006</td>\n",
       "    </tr>\n",
       "    <tr>\n",
       "      <th>MCC</th>\n",
       "      <td>0.520±0.008</td>\n",
       "    </tr>\n",
       "    <tr>\n",
       "      <th>cm</th>\n",
       "      <td>[[29820, 7335], [2654, 9033]]</td>\n",
       "    </tr>\n",
       "  </tbody>\n",
       "</table>\n",
       "</div>"
      ],
      "text/plain": [
       "                                 measure\n",
       "Accuracy                     0.795±0.003\n",
       "BA                           0.788±0.006\n",
       "Precision                    0.735±0.003\n",
       "Recall                       0.788±0.006\n",
       "MCC                          0.520±0.008\n",
       "cm         [[29820, 7335], [2654, 9033]]"
      ]
     },
     "execution_count": 1,
     "metadata": {},
     "output_type": "execute_result"
    },
    {
     "data": {
      "image/png": "[encoded data removed]",
      "text/plain": [
       "<Figure size 640x480 with 2 Axes>"
      ]
     },
     "metadata": {},
     "output_type": "display_data"
    }
   ],
   "source": [
    "from svelearn.models.splitvotingens import SplitVotingEnsemble\n",
    "from svelearn.validation.crossvalidate import skfold_cv\n",
    "from sklearn.preprocessing import OneHotEncoder\n",
    "from sklearn.metrics import *\n",
    "from sklearn.tree import ExtraTreeClassifier\n",
    "myscorer = {'Accuracy'  :  (accuracy_score , {}),\n",
    "             'BA'  :       (balanced_accuracy_score , {}),\n",
    "             'Precision' : (precision_score, {'pos_label': 1, 'average':'macro'}),\n",
    "             'Recall' :    (recall_score   , {'pos_label': 1, 'average':'macro'}),\n",
    "             'MCC' :       (matthews_corrcoef, {}), \n",
    "            }\n",
    "#!pip install ucimlrepo\n",
    "from ucimlrepo import fetch_ucirepo \n",
    "adult = fetch_ucirepo(id=2) \n",
    "X = adult.data.features\n",
    "enc = OneHotEncoder(handle_unknown='ignore')\n",
    "X = enc.fit_transform(X).toarray()\n",
    "Y = adult.data.targets\n",
    "Y = Y.replace({'<=50K.': '<=50K', '>50K.':'>50K'})\n",
    "print(Y.value_counts())\n",
    "clf = ExtraTreeClassifier(random_state=0)\n",
    "svclf = SplitVotingEnsemble(clf, n_voters=4)\n",
    "df_scores, scores, predictions = skfold_cv(X, Y, svclf, n_splits=5, seed=0, show_progress=True, verbose=True, scorer=myscorer, precision=3)\n",
    "df_scores"
   ]
  }
 ],
 "metadata": {
  "kernelspec": {
   "display_name": "base",
   "language": "python",
   "name": "python3"
  },
  "language_info": {
   "codemirror_mode": {
    "name": "ipython",
    "version": 3
   },
   "file_extension": ".py",
   "mimetype": "text/x-python",
   "name": "python",
   "nbconvert_exporter": "python",
   "pygments_lexer": "ipython3",
   "version": "3.10.13"
  }
 },
 "nbformat": 4,
 "nbformat_minor": 2
}
